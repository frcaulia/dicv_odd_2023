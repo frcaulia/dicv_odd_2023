{
  "nbformat": 4,
  "nbformat_minor": 0,
  "metadata": {
    "colab": {
      "provenance": [],
      "authorship_tag": "ABX9TyPMNevNxpAva6O+Lnxs7Zbn",
      "include_colab_link": true
    },
    "kernelspec": {
      "name": "python3",
      "display_name": "Python 3"
    },
    "language_info": {
      "name": "python"
    }
  },
  "cells": [
    {
      "cell_type": "markdown",
      "metadata": {
        "id": "view-in-github",
        "colab_type": "text"
      },
      "source": [
        "<a href=\"https://colab.research.google.com/github/frcaulia/dicv_odd_2023/blob/main/Week4.ipynb\" target=\"_parent\"><img src=\"https://colab.research.google.com/assets/colab-badge.svg\" alt=\"Open In Colab\"/></a>"
      ]
    },
    {
      "cell_type": "markdown",
      "source": [
        "1. Suatu Pixel bernilai R=50, G=130, B=70. dengan konstanta=40, Berapakah nilai Log Brightnessnya?\n",
        "\n",
        "a. R=68, G=85, B=74\n",
        "\n",
        "b. R=70, G=87, B=74\n",
        "\n",
        "c. R=60, G=80, B=74\n",
        "\n",
        "**d. R=68, G=87, B=80**\n",
        "\n",
        "e. R=68, G=87, B=74"
      ],
      "metadata": {
        "id": "92FSZ45Jd1cl"
      }
    },
    {
      "cell_type": "markdown",
      "source": [
        "2. Citra Digital 5-bit memiliki jumlah kuantisasi ...\n",
        "\n",
        "a. 16\n",
        "\n",
        "b. 31\n",
        "\n",
        "**c. 32**\n",
        "\n",
        "d. 7\n",
        "\n",
        "e. 15"
      ],
      "metadata": {
        "id": "-HWfwyxpeNrs"
      }
    },
    {
      "cell_type": "markdown",
      "source": [
        "3. Manakah library python berikut yang berikaitan dengan pembentukan objek N-dimensional array?\n",
        "\n",
        "**a. NumPy**\n",
        "\n",
        "b. Pandas\n",
        "\n",
        "c. CV2\n",
        "\n",
        "d. Skimage\n",
        "\n",
        "e. OpenCV"
      ],
      "metadata": {
        "id": "Xb1vEuZxeD0G"
      }
    },
    {
      "cell_type": "markdown",
      "source": [
        "4. Formula yang digunakan untuk membalik nilai derajat keabuan dimana titik terang akan menjadi gelap dan titik gelap akan menjadi terang (inverse color) adalah:\n",
        "\n",
        "a. g(x,y)=a* f(x,y)+b\n",
        "\n",
        "**b. g(x)=255-f(x)**\n",
        "\n",
        "c. s=c* log(1+r)\n",
        "\n",
        "d. g(x)=0.21𝑅+0.72𝐺+0.07𝐵\n",
        "\n",
        "e. g(x,y)=f(x,y)+b\n"
      ],
      "metadata": {
        "id": "auS6zA4_ekb8"
      }
    },
    {
      "cell_type": "markdown",
      "source": [
        "5. Citra 4-bit pada pixel warna 25, jika diinverse akan menghasilkan warna ...\n",
        "\n",
        "a. 225\n",
        "\n",
        "b. 230\n",
        "\n",
        "c. 228\n",
        "\n",
        "**d. -10**\n",
        "\n",
        "e. 27"
      ],
      "metadata": {
        "id": "vjeXp198et7s"
      }
    }
  ]
}