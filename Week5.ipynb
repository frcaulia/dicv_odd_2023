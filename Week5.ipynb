{
  "nbformat": 4,
  "nbformat_minor": 0,
  "metadata": {
    "colab": {
      "provenance": [],
      "authorship_tag": "ABX9TyPih0T858H56IpAwrNHW73K",
      "include_colab_link": true
    },
    "kernelspec": {
      "name": "python3",
      "display_name": "Python 3"
    },
    "language_info": {
      "name": "python"
    }
  },
  "cells": [
    {
      "cell_type": "markdown",
      "metadata": {
        "id": "view-in-github",
        "colab_type": "text"
      },
      "source": [
        "<a href=\"https://colab.research.google.com/github/frcaulia/dicv_odd_2023/blob/main/Week5.ipynb\" target=\"_parent\"><img src=\"https://colab.research.google.com/assets/colab-badge.svg\" alt=\"Open In Colab\"/></a>"
      ]
    },
    {
      "cell_type": "markdown",
      "source": [
        "### **1. Make a Gamma Correction according to the following instructions**\n",
        "This experiment will ask you to make a Gamma Correction. In this experiment, the Gamma value will be set by asking for input from the user . Below is the code to request value input from the user. Continue the code by creating an image with gamma correction according to the formula given"
      ],
      "metadata": {
        "id": "xeotyH8lgpSj"
      }
    },
    {
      "cell_type": "code",
      "execution_count": null,
      "metadata": {
        "id": "PjIfS7s_fGTS"
      },
      "outputs": [],
      "source": []
    },
    {
      "cell_type": "markdown",
      "source": [
        "### **2. Create Image Depth Simulation**\n",
        "This experiment is used as a simulation of the image quantization process. In image quantization, pixels can be represented by n-bit depth (default is 8-bit). In an 8-bit pixel, the possible colors are 256 colors, from 0 (0000 0000) to 255 (1111 1111). On a 7-bit pixel, the possible colors are 128 colors, from 0 (000 0000) to 127 (111 1111). The possible color is obtained from the power of 2 the number of bits. If it is 7 bits, then the number of colors\n",
        "will be 2 7 = 128, etc. Since Visual Studio 2017 only works on 8 bits, this experiment only manipulates colors so that the number of colors matches their depth. For the 7-bit case, two 8-bit colors are represented by one 7-bit color. Examples of color pixels 0 and 1 at 8-bit, represented by color 0 at 7-bit. color pixels 2 and 3 at 8-bit, represented by color 1 at 7-bit, etc"
      ],
      "metadata": {
        "id": "ugIm9rIBgyE1"
      }
    },
    {
      "cell_type": "code",
      "source": [],
      "metadata": {
        "id": "l2PoH0p8hAox"
      },
      "execution_count": null,
      "outputs": []
    },
    {
      "cell_type": "markdown",
      "source": [
        "### **3. Create the Average Denoising module**\n",
        "Create an average denoising module according to the formula given in the previous section.\n",
        "*   Original images are provided at /images/galaxy.jpg\n",
        "*   100 Images with Gaussian Noise are provided at /images/noises/*.jpg\n",
        "*   You can use the following code to read all the images in one folder, use the glob module ( import glob )."
      ],
      "metadata": {
        "id": "Hv-x-RethA-0"
      }
    },
    {
      "cell_type": "code",
      "source": [],
      "metadata": {
        "id": "QlvoPq1HhgRr"
      },
      "execution_count": null,
      "outputs": []
    },
    {
      "cell_type": "markdown",
      "source": [
        "### **4. Create image masking for the following image. The left image is the original image ( images / teeth.jpg )**"
      ],
      "metadata": {
        "id": "GtXQBcrihhNg"
      }
    },
    {
      "cell_type": "code",
      "source": [],
      "metadata": {
        "id": "rpI963sMhzLa"
      },
      "execution_count": null,
      "outputs": []
    },
    {
      "cell_type": "markdown",
      "source": [
        "### **5. Do the experiment using other operators and show the results in this module**"
      ],
      "metadata": {
        "id": "rWQ0sJ8Bhzdz"
      }
    },
    {
      "cell_type": "code",
      "source": [],
      "metadata": {
        "id": "v_LJooRMiL5U"
      },
      "execution_count": null,
      "outputs": []
    }
  ]
}